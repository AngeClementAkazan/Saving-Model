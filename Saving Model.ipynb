{
  "nbformat": 4,
  "nbformat_minor": 0,
  "metadata": {
    "colab": {
      "provenance": [],
      "authorship_tag": "ABX9TyMNOaG5Tke6+78C8HPCVpkk",
      "include_colab_link": true
    },
    "kernelspec": {
      "name": "python3",
      "display_name": "Python 3"
    },
    "language_info": {
      "name": "python"
    }
  },
  "cells": [
    {
      "cell_type": "markdown",
      "metadata": {
        "id": "view-in-github",
        "colab_type": "text"
      },
      "source": [
        "<a href=\"https://colab.research.google.com/github/AngeClementAkazan/Saving-Model/blob/main/Saving%20Model.ipynb\" target=\"_parent\"><img src=\"https://colab.research.google.com/assets/colab-badge.svg\" alt=\"Open In Colab\"/></a>"
      ]
    },
    {
      "cell_type": "markdown",
      "source": [
        "# 1. Linear Regression Model"
      ],
      "metadata": {
        "id": "osbp2GLzbEC1"
      }
    },
    {
      "cell_type": "code",
      "source": [
        "#Import library\n",
        "import tensorflow as tf\n",
        "#Other library\n",
        "import numpy as np\n",
        "import matplotlib.pyplot as plt\n",
        "import pandas as pd\n",
        "\n",
        "#Get data\n",
        "# !wget https://raw.githubusercontent.com/lazyprogrammer/machine_learning_examples/master/tf2.0/moore.csv\n",
        "#Load data\n",
        "dta=pd.read_csv('moore.csv',header=None).to_numpy()\n",
        "X=dta[:,0].reshape(-1,1) #Making 2D array\n",
        "Y1=dta[:,1]\n",
        "\n",
        "\n",
        "#The result looks like an exponential growth, therefore, to stdy this data one can apply log to the Y and transform into a linear regression study\n",
        "Y=np.log(Y1)\n",
        "\n",
        "#To reduce the input\n",
        "X=X-X.mean()\n",
        "#Building model\n",
        "model= tf.keras.models.Sequential( [tf.keras.layers.Input(shape=(1,)), #the model an\n",
        "                      tf.keras.layers.Dense(1)]\n",
        "                                 )\n",
        "# model=tf.keras.models.Sequential()\n",
        "# model.add(tf.keras.layers.Dense(1,input_shape=(1,), ))\n",
        "\n",
        "#We customize the optimizer to avoid issues in the training because we did not scale the input data\n",
        "model.compile(\n",
        "    optimizer=tf.keras.optimizers.SGD(0.001,0.9),\n",
        "    loss='mse',\n",
        "\n",
        ")\n",
        "\n",
        "#Define Scheduled learning rate\n",
        "\n",
        "def schedule(epoch,lr):\n",
        "  if epoch>= 90:\n",
        "    return 0.0001\n",
        "  return 0.001\n",
        "#Define the learning rate scheduler object\n",
        "scheduler=tf.keras.callbacks.LearningRateScheduler(schedule)\n",
        "#Fitting model\n",
        "r = model.fit(X,Y, epochs= 200, callbacks=[scheduler], verbose=0)\n",
        "\n",
        "\n",
        "#Getting slope and intercept\n",
        "print(\"slope={}\".format(model.layers[0].get_weights()[0][0,0]))\n",
        "print(\"intercept={}\".format(model.layers[0].get_weights()[1][0]))"
      ],
      "metadata": {
        "colab": {
          "base_uri": "https://localhost:8080/"
        },
        "id": "1vTCJKX_PC5C",
        "outputId": "d91e4b8f-115e-4f25-e71e-7694dd00b481"
      },
      "execution_count": null,
      "outputs": [
        {
          "output_type": "stream",
          "name": "stdout",
          "text": [
            "slope=0.34200456738471985\n",
            "intercept=17.778844833374023\n"
          ]
        }
      ]
    },
    {
      "cell_type": "markdown",
      "source": [],
      "metadata": {
        "id": "ypEaJIO2a-f_"
      }
    },
    {
      "cell_type": "code",
      "source": [
        "\n",
        "#Plotting loss function / epochs\n",
        "plt.plot(r.history['loss'], label='loss')\n",
        "plt.plot(r.history['loss'], label='loss')\n",
        "plt.legend();\n"
      ],
      "metadata": {
        "id": "_y9XnRsrTIrz",
        "colab": {
          "base_uri": "https://localhost:8080/",
          "height": 265
        },
        "outputId": "3e00bc80-5880-46ba-ac7b-7b7d9575f999"
      },
      "execution_count": null,
      "outputs": [
        {
          "output_type": "display_data",
          "data": {
            "text/plain": [
              "<Figure size 432x288 with 1 Axes>"
            ],
            "image/png": "[encoded data removed]"
          },
          "metadata": {
            "needs_background": "light"
          }
        }
      ]
    },
    {
      "cell_type": "markdown",
      "source": [
        "# 2. Saving the model"
      ],
      "metadata": {
        "id": "k9cM78hWn8nk"
      }
    },
    {
      "cell_type": "code",
      "source": [
        "#Saving the model\n",
        "model.save('LinearRegression')\n",
        "\n",
        "### equivalent to: model.save(\"\")\n",
        "# from tensorflow.keras.models import save_model\n",
        "# save_model(model, \"\")\n",
        "\n",
        "#Check whether that file exist \n",
        "!ls -lh\n",
        "\n",
        "\n",
        "#Load model \n",
        "\n",
        "from tensorflow.keras.models import load_model\n",
        "mod=tf.keras.models.load_model(\"LinearRegression\")"
      ],
      "metadata": {
        "id": "-7iU9vtOoG14"
      },
      "execution_count": null,
      "outputs": []
    },
    {
      "cell_type": "code",
      "source": [
        "#Save model using Json\n",
        "\n",
        "# serialize model to JSON\n",
        "model_json = model.to_json()\n",
        "with open(\"model.json\", \"w\") as json_file:\n",
        "    json_file.write(model_json)\n",
        "# serialize weights to HDF5\n",
        "model.save_weights(\"model.h5\")\n",
        "print(\"Saved model to disk\")\n",
        " "
      ],
      "metadata": {
        "colab": {
          "base_uri": "https://localhost:8080/"
        },
        "id": "M8V-89YeqNZv",
        "outputId": "fb4a05ab-9899-4725-ecf4-6c94e9c458fd"
      },
      "execution_count": null,
      "outputs": [
        {
          "output_type": "stream",
          "name": "stdout",
          "text": [
            "Saved model to disk\n"
          ]
        }
      ]
    },
    {
      "cell_type": "code",
      "source": [
        "# MLP for Pima Indians Dataset Serialize to JSON and HDF5\n",
        "from tensorflow.keras.models import  model_from_json\n",
        "# load json and create model\n",
        "json_file = open('model.json', 'r')\n",
        "loaded_model_json = json_file.read()\n",
        "json_file.close()\n",
        "loaded_model = model_from_json(loaded_model_json)\n",
        "# load weights into new model\n",
        "loaded_model.load_weights(\"model.h5\")\n",
        "# print(\"Loaded model from disk\")\n",
        "\n"
      ],
      "metadata": {
        "colab": {
          "base_uri": "https://localhost:8080/"
        },
        "id": "3SWyQ26nsmD6",
        "outputId": "b432352b-cf01-4044-c642-ca6e85a0c989"
      },
      "execution_count": null,
      "outputs": [
        {
          "output_type": "stream",
          "name": "stdout",
          "text": [
            "Loaded model from disk\n"
          ]
        }
      ]
    },
    {
      "cell_type": "code",
      "source": [
        "# evaluate loaded model on test data\n",
        "loaded_model.compile(loss='mse', optimizer='adam', metrics=['mse'])\n",
        "score = loaded_model.evaluate(X, Y, verbose=0)\n",
        "print(\"%s: %.2f%%\" % (loaded_model.metrics_names[1], score[1]*100))"
      ],
      "metadata": {
        "colab": {
          "base_uri": "https://localhost:8080/"
        },
        "id": "3YHeSssctwpa",
        "outputId": "600600c7-5905-47e1-816b-bff203f38890"
      },
      "execution_count": null,
      "outputs": [
        {
          "output_type": "stream",
          "name": "stdout",
          "text": [
            "mse: 87.05%\n"
          ]
        }
      ]
    },
    {
      "cell_type": "code",
      "source": [
        "#Download model in my local desktop\n",
        "from google.colab import files\n",
        "files.download('LinearRegression.h5')"
      ],
      "metadata": {
        "id": "6jcla7ipxKX5"
      },
      "execution_count": null,
      "outputs": []
    }
  ]
}